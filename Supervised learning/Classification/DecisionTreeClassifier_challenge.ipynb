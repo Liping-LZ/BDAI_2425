{
  "nbformat": 4,
  "nbformat_minor": 0,
  "metadata": {
    "colab": {
      "provenance": [],
      "authorship_tag": "ABX9TyP9/jcLhWZ8BPe/DnnLhSdQ",
      "include_colab_link": true
    },
    "kernelspec": {
      "name": "python3",
      "display_name": "Python 3"
    },
    "language_info": {
      "name": "python"
    }
  },
  "cells": [
    {
      "cell_type": "markdown",
      "metadata": {
        "id": "view-in-github",
        "colab_type": "text"
      },
      "source": [
        "<a href=\"https://colab.research.google.com/github/Liping-LZ/BDAI_2425/blob/main/Supervised%20learning/Classification/DecisionTreeClassifier_challenge.ipynb\" target=\"_parent\"><img src=\"https://colab.research.google.com/assets/colab-badge.svg\" alt=\"Open In Colab\"/></a>"
      ]
    },
    {
      "cell_type": "markdown",
      "source": [
        "# Step 1: Load the data\n",
        "\n",
        "Please download the data (ai4i2020_new.csv) from Moodle. It's machine data for predicting machine maintenance.\n",
        "\n",
        "---\n",
        "\n"
      ],
      "metadata": {
        "id": "u28aQ1kD4UAi"
      }
    },
    {
      "cell_type": "code",
      "source": [
        "# First, we need to load the dataset into Google Colab.\n",
        "# This statement allows you to select the file from your laptop and upload it to Google Cloud.\n",
        "# Please wait until you see 100% done and the play button is resumed.\n",
        "from google.colab import files\n",
        "uploaded = files.upload()"
      ],
      "metadata": {
        "id": "ZrSwSBGurCTV"
      },
      "execution_count": null,
      "outputs": []
    },
    {
      "cell_type": "code",
      "source": [
        "import pandas as pd\n",
        "\n",
        "data = 'PUT YOUR FILE NAME' # This is the name of file you have uploaded and you need for this task. Please put the file name accordingly\n",
        "df = pd.read_csv(data) # read the data into dataframe using the function from pandas\n",
        "df.head()"
      ],
      "metadata": {
        "id": "ZdBFv2we4lWs"
      },
      "execution_count": null,
      "outputs": []
    },
    {
      "cell_type": "markdown",
      "source": [
        "# Step 2: Data checking & data cleaning\n",
        "\n",
        "---"
      ],
      "metadata": {
        "id": "0BApoBRM5EEn"
      }
    },
    {
      "cell_type": "markdown",
      "source": [
        "# Step 3: Feature engineering\n",
        "You can skip this step if the data is pretty clean and simple.\n",
        "\n",
        "---"
      ],
      "metadata": {
        "id": "_2KsN8Ro7Ib1"
      }
    },
    {
      "cell_type": "markdown",
      "source": [
        "# Step 4: Separate the target (Y) and features (X)\n",
        "\n",
        "---"
      ],
      "metadata": {
        "id": "W20DbfwY7i1G"
      }
    },
    {
      "cell_type": "markdown",
      "source": [
        "# Step 5: Split data into training and test\n",
        "\n",
        "---"
      ],
      "metadata": {
        "id": "qvTX4o_w71-P"
      }
    },
    {
      "cell_type": "markdown",
      "source": [
        "# Step 6: Select the algorithms\n",
        "In this case, we are using decision tree for classification. Check the documentation:https://scikit-learn.org/stable/modules/generated/sklearn.tree.DecisionTreeClassifier.html#sklearn.tree.DecisionTreeClassifier\n",
        "\n",
        "\n",
        "---"
      ],
      "metadata": {
        "id": "VJ2US7zU8HPx"
      }
    },
    {
      "cell_type": "markdown",
      "source": [
        "# Step 7: Create and train the model\n",
        "\n",
        "---"
      ],
      "metadata": {
        "id": "Ey7-vYCs8hW4"
      }
    },
    {
      "cell_type": "markdown",
      "source": [
        "# Step 8: Check the model performance\n",
        "\n",
        "---"
      ],
      "metadata": {
        "id": "kfp35vgS8wlY"
      }
    },
    {
      "cell_type": "markdown",
      "source": [
        "# Step 9: Hyperparamter optimisation\n",
        "We need to improve our model performance by finding the best hyperameters.\n",
        "\n",
        "The following hyperparameters will be optimised:\n",
        "\n",
        "\n",
        "*   Criterion - the function to measure split quality;\n",
        "*   Max Depth - the number of child nodes to build in the tree;\n",
        "*   Min sample split - the minimum number of samples needed to perform a split;\n",
        "*   min_samples_leaf: Minimum samples in leaf nodes.\n",
        "\n",
        "---"
      ],
      "metadata": {
        "id": "sHbk9ZP59gYv"
      }
    },
    {
      "cell_type": "markdown",
      "source": [
        "# Step 10: Retrain the model and check the performance again\n",
        "\n",
        "---"
      ],
      "metadata": {
        "id": "dRPPgh3Q-gVT"
      }
    },
    {
      "cell_type": "markdown",
      "source": [
        "# (Optional): Visualise the confusion matrix\n",
        "\n",
        "---"
      ],
      "metadata": {
        "id": "3Uu5yhRX_WXN"
      }
    },
    {
      "cell_type": "markdown",
      "source": [
        "# Step 11: You can try more different algorithms."
      ],
      "metadata": {
        "id": "xSlfN1xmAiDJ"
      }
    },
    {
      "cell_type": "markdown",
      "source": [
        "The solution of this challenge can be found here: [DecisionTreeClassifier_challenge_solution](https://colab.research.google.com/drive/1iMEfjn4Mf8bfMM88WzVbWHjxBEunm1DK?usp=sharing)"
      ],
      "metadata": {
        "id": "BI-AwI5bMZTs"
      }
    }
  ]
}